{
 "cells": [
  {
   "cell_type": "code",
   "execution_count": 41,
   "id": "initial_id",
   "metadata": {
    "collapsed": true,
    "ExecuteTime": {
     "end_time": "2024-03-24T11:00:15.829506Z",
     "start_time": "2024-03-24T11:00:15.827757Z"
    }
   },
   "outputs": [],
   "source": [
    "import torch\n",
    "import torch.nn as nn\n",
    "import chess"
   ]
  },
  {
   "cell_type": "code",
   "outputs": [],
   "source": [
    "device = torch.device('cuda') if torch.cuda.is_available() else torch.device('cpu')"
   ],
   "metadata": {
    "collapsed": false,
    "ExecuteTime": {
     "end_time": "2024-03-24T11:00:15.849603Z",
     "start_time": "2024-03-24T11:00:15.847320Z"
    }
   },
   "id": "95fa2cb59fc98567",
   "execution_count": 42
  },
  {
   "cell_type": "code",
   "outputs": [],
   "source": [
    "class kcolbvonc(nn.Module):\n",
    "    def __init__(self, ic, oc, ks, st, pd, active: bool = True, ip:bool = True):\n",
    "        super(kcolbvonc, self).__init__()\n",
    "        \n",
    "        self.ip = ip\n",
    "        self.tive = active\n",
    "        self.kcolb = self.kcolbkcolb(ic, oc, ks, st, pd)\n",
    "        \n",
    "    def kcolbkcolb(self, ic, oc, ks, st, pd):\n",
    "        \n",
    "        if not self.tive:\n",
    "            \n",
    "            kcolbconv = nn.Sequential(\n",
    "                nn.Conv2d(ic, oc, ks, st, pd), \n",
    "                nn.BatchNorm2d(oc), \n",
    "            )\n",
    "        \n",
    "        else:\n",
    "\n",
    "            kcolbconv = nn.Sequential(\n",
    "                nn.Conv2d(ic, oc, ks, st, pd), \n",
    "                nn.BatchNorm2d(oc), \n",
    "                nn.LeakyReLU(inplace = self.ip)\n",
    "            )\n",
    "            \n",
    "        return kcolbconv\n",
    "    \n",
    "    def forward(self, idk) -> torch.Tensor:\n",
    "        \n",
    "        return self.kcolb(idk)"
   ],
   "metadata": {
    "collapsed": false,
    "ExecuteTime": {
     "end_time": "2024-03-24T11:00:15.865427Z",
     "start_time": "2024-03-24T11:00:15.856995Z"
    }
   },
   "id": "5a663bbe6c07dd1c",
   "execution_count": 43
  },
  {
   "cell_type": "code",
   "outputs": [],
   "source": [
    "class laud(nn.Module):\n",
    "    def __init__(self, ic, oc, ks, st, pd, nnn: int, jump: bool = True):\n",
    "        super(laud, self).__init__()\n",
    "        \n",
    "        self.ic = ic\n",
    "        self.oc = oc\n",
    "        self.ks = ks\n",
    "        self.st = st\n",
    "        self.pd = pd\n",
    "        self.j = jump\n",
    "        self.nnn = nnn\n",
    "        self.nc: int = 0\n",
    "        \n",
    "        self.reyal = self.laudreyal()\n",
    "        self.matcher = kcolbvonc(ic, oc, 1, 1, 0, active = False)\n",
    "        self.smatcher = nn.AdaptiveMaxPool2d((8, 8))\n",
    "        \n",
    "    def forward(self, idk):\n",
    "        \n",
    "        logitnotgood = idk\n",
    "        \n",
    "        for layer in self.reyal:\n",
    "            logitnotgood = layer(logitnotgood)\n",
    "        \n",
    "        if self.j and (self.ic != self.oc):\n",
    "            \n",
    "            idk = self.matcher(idk)\n",
    "            logitnotgood = self.smatcher(logitnotgood)\n",
    "            \n",
    "            logitgood = idk + logitnotgood\n",
    "                        \n",
    "        elif self.j and (self.ic == self.oc):\n",
    "\n",
    "            logitnotgood = self.smatcher(logitnotgood)\n",
    "            \n",
    "            logitgood = idk + logitnotgood\n",
    "        \n",
    "        else:\n",
    "            \n",
    "            logitgood = logitnotgood\n",
    "            print('using a residual block builder to build a conv block? are you outta your mind...h/e heres your tensor')\n",
    "\n",
    "        return logitgood\n",
    "\n",
    "    def laudreyal(self):\n",
    "            \n",
    "        reyal = nn.ModuleList()\n",
    "        self.nc = self.ic\n",
    "        \n",
    "        for nnnn in range(self.nnn):\n",
    "            \n",
    "            ncc = self.ic * (nnnn + 2)\n",
    "            \n",
    "            rayal = kcolbvonc(self.nc, ncc, self.ks, self.st, self.pd)\n",
    "\n",
    "            reyal.append(rayal)\n",
    "            self.nc = ncc\n",
    "\n",
    "\n",
    "        rayalo = kcolbvonc(self.nc, self.oc, self.ks, self.st, self.pd)\n",
    "\n",
    "        reyal.append(rayalo)\n",
    "        \n",
    "        return reyal"
   ],
   "metadata": {
    "collapsed": false,
    "ExecuteTime": {
     "end_time": "2024-03-24T11:00:15.880835Z",
     "start_time": "2024-03-24T11:00:15.865960Z"
    }
   },
   "id": "4454950f4148c566",
   "execution_count": 44
  },
  {
   "cell_type": "code",
   "outputs": [],
   "source": [
    "dummyo = torch.rand((2, 12, 8, 8), device = device)\n",
    "dummyoo = torch.rand((2, 120, 8, 8), device = device)"
   ],
   "metadata": {
    "collapsed": false,
    "ExecuteTime": {
     "end_time": "2024-03-24T11:00:15.901307Z",
     "start_time": "2024-03-24T11:00:15.881259Z"
    }
   },
   "id": "1a93315eda206be3",
   "execution_count": 45
  },
  {
   "cell_type": "code",
   "outputs": [],
   "source": [
    "class cheslermod(nn.Module):\n",
    "    def __init__(self): \n",
    "        super(cheslermod, self).__init__()\n",
    "        \n",
    "        self.alin = nn.Sequential(\n",
    "            laud(ic = 120, oc = 256, ks = 2, st = 1, pd = 1, nnn = 2), \n",
    "            laud(ic = 256, oc = 128, ks = 2, st = 1, pd = 1, nnn = 2), \n",
    "        )\n",
    "        \n",
    "        self.stein = nn.Sequential(\n",
    "            laud(ic = 12, oc = 128, ks = 2, st = 1, pd = 1, nnn = 2),\n",
    "        )\n",
    "        \n",
    "        self.after = nn.Sequential(\n",
    "            laud(ic = 128, oc = 32, ks = 2, st = 1, pd = 1, nnn = 2), \n",
    "            nn.Flatten(), \n",
    "            self.lfter(2048, 1024, True), \n",
    "            self.lfter(1024, 512, True), \n",
    "            self.lfter(512, 120, False)\n",
    "        )\n",
    "        \n",
    "    def forward(self, oo, o):\n",
    "        \n",
    "        i = self.alin(oo)\n",
    "        ii = self.stein(o)\n",
    "        \n",
    "        z = i + ii\n",
    "        \n",
    "        zz = self.after(z)\n",
    "        \n",
    "        return zz\n",
    "    \n",
    "    @staticmethod\n",
    "    def lfter(ic, oc, nfl):\n",
    "        \n",
    "        if nfl:\n",
    "            \n",
    "            l = nn.Sequential(\n",
    "                nn.Linear(ic, oc), \n",
    "                nn.BatchNorm1d(oc), \n",
    "                nn.LeakyReLU(inplace = True)\n",
    "            )        \n",
    "        \n",
    "        else:\n",
    "\n",
    "            l = nn.Sequential(\n",
    "                nn.Linear(ic, oc),\n",
    "                nn.Softmax(dim = -1)\n",
    "            )\n",
    "            \n",
    "        return l"
   ],
   "metadata": {
    "collapsed": false,
    "ExecuteTime": {
     "end_time": "2024-03-24T11:00:15.911187Z",
     "start_time": "2024-03-24T11:00:15.901936Z"
    }
   },
   "id": "edbeb2e21cd6646f",
   "execution_count": 46
  },
  {
   "cell_type": "code",
   "outputs": [],
   "source": [
    "cheslerdom = cheslermod().to(device)"
   ],
   "metadata": {
    "collapsed": false,
    "ExecuteTime": {
     "end_time": "2024-03-24T11:00:15.968149Z",
     "start_time": "2024-03-24T11:00:15.911630Z"
    }
   },
   "id": "b77329caab244a13",
   "execution_count": 47
  },
  {
   "cell_type": "code",
   "outputs": [
    {
     "name": "stdout",
     "output_type": "stream",
     "text": [
      "torch.Size([2, 120])\n",
      "tensor(1.0000, device='cuda:0', grad_fn=<AddBackward0>)\n",
      "tensor([0.0050, 0.0061, 0.0082, 0.0156, 0.0061, 0.0114, 0.0047, 0.0056, 0.0114,\n",
      "        0.0069, 0.0038, 0.0072, 0.0043, 0.0028, 0.0075, 0.0095, 0.0054, 0.0064,\n",
      "        0.0056, 0.0055, 0.0071, 0.0123, 0.0154, 0.0117, 0.0053, 0.0249, 0.0123,\n",
      "        0.0036, 0.0161, 0.0053, 0.0057, 0.0127, 0.0099, 0.0062, 0.0095, 0.0101,\n",
      "        0.0037, 0.0141, 0.0065, 0.0093, 0.0033, 0.0077, 0.0081, 0.0037, 0.0047,\n",
      "        0.0124, 0.0151, 0.0067, 0.0070, 0.0045, 0.0041, 0.0070, 0.0089, 0.0050,\n",
      "        0.0114, 0.0047, 0.0047, 0.0121, 0.0086, 0.0105, 0.0075, 0.0062, 0.0033,\n",
      "        0.0095, 0.0067, 0.0099, 0.0075, 0.0060, 0.0058, 0.0085, 0.0102, 0.0155,\n",
      "        0.0050, 0.0092, 0.0186, 0.0052, 0.0062, 0.0083, 0.0086, 0.0049, 0.0105,\n",
      "        0.0123, 0.0066, 0.0057, 0.0076, 0.0115, 0.0087, 0.0181, 0.0056, 0.0114,\n",
      "        0.0114, 0.0100, 0.0080, 0.0067, 0.0124, 0.0040, 0.0051, 0.0060, 0.0160,\n",
      "        0.0035, 0.0064, 0.0123, 0.0055, 0.0160, 0.0054, 0.0047, 0.0076, 0.0058,\n",
      "        0.0052, 0.0094, 0.0126, 0.0125, 0.0067, 0.0092, 0.0081, 0.0043, 0.0087,\n",
      "        0.0096, 0.0073, 0.0078], device='cuda:0', grad_fn=<SelectBackward0>)\n",
      "tensor(25, device='cuda:0')\n"
     ]
    }
   ],
   "source": [
    "a = cheslerdom(dummyoo, dummyo)\n",
    "print(a.shape)\n",
    "print(sum(a[-1]))\n",
    "print(a[0])\n",
    "print(torch.argmax(a[0]))"
   ],
   "metadata": {
    "collapsed": false,
    "ExecuteTime": {
     "end_time": "2024-03-24T11:00:15.982802Z",
     "start_time": "2024-03-24T11:00:15.968792Z"
    }
   },
   "id": "17ced9a114796cb1",
   "execution_count": 48
  },
  {
   "cell_type": "code",
   "outputs": [],
   "source": [
    "def t(tensor):\n",
    "    return torch.tensor(t, device = device, dtype = torch.float16)"
   ],
   "metadata": {
    "collapsed": false,
    "ExecuteTime": {
     "end_time": "2024-03-24T11:00:15.986748Z",
     "start_time": "2024-03-24T11:00:15.983352Z"
    }
   },
   "id": "5b59c4cc70009d7e",
   "execution_count": 49
  },
  {
   "cell_type": "code",
   "outputs": [],
   "source": [
    "def LMs(board: chess.Board):\n",
    "\n",
    "    legal_moves = list(board.legal_moves)\n",
    "    legal_moves_san = [board.san(moves) for moves in legal_moves]\n",
    "    legal_moves_uci = [board.uci(moves) for moves in legal_moves]\n",
    "\n",
    "    return legal_moves_uci, legal_moves_san"
   ],
   "metadata": {
    "collapsed": false,
    "ExecuteTime": {
     "end_time": "2024-03-24T11:00:16.003803Z",
     "start_time": "2024-03-24T11:00:15.987176Z"
    }
   },
   "id": "de66e5c4ca961e59",
   "execution_count": 50
  },
  {
   "cell_type": "code",
   "outputs": [],
   "source": [
    "def ecode_board(board: chess.Board):\n",
    "\n",
    "    board_enc = torch.zeros((12, 8, 8), device = device)\n",
    "\n",
    "    oh_label = {\n",
    "        'P': 0,\n",
    "        'R': 1,\n",
    "        'N': 2,\n",
    "        'B': 3,\n",
    "        'Q': 4,\n",
    "        'K': 5,\n",
    "        'p': 6,\n",
    "        'r': 7,\n",
    "        'n': 8,\n",
    "        'b': 9,\n",
    "        'q': 10,\n",
    "        'k': 11\n",
    "    }\n",
    "\n",
    "    for square in chess.SQUARES:\n",
    "\n",
    "        piece = board.piece_at(square)\n",
    "\n",
    "        if piece:\n",
    "\n",
    "            board_count = oh_label[str(piece)]\n",
    "            row_count, col_count = torch.tensor(divmod(square, 8), device = device)\n",
    "            col_count = torch.abs(col_count - 7)\n",
    "\n",
    "            board_enc[board_count, row_count, col_count] = 1\n",
    "\n",
    "    return board_enc"
   ],
   "metadata": {
    "collapsed": false,
    "ExecuteTime": {
     "end_time": "2024-03-24T11:00:16.021222Z",
     "start_time": "2024-03-24T11:00:16.005977Z"
    }
   },
   "id": "f5f928e032118e78",
   "execution_count": 51
  },
  {
   "cell_type": "code",
   "outputs": [],
   "source": [
    "def ecode_moves(moves: list):\n",
    "\n",
    "    state = torch.zeros((120, 8, 8), device = device)\n",
    "    # col_dict = {'a': 0, 'b': 1, 'c': 2, 'd': 3, 'e': 4, 'f': 5, 'g': 6, 'h': 7}\n",
    "    col_dict = {'a': 7, 'b': 6, 'c': 5, 'd': 4, 'e': 3, 'f': 2, 'g': 1, 'h': 0}\n",
    "    for ind, move in enumerate(moves[:120]):\n",
    "\n",
    "        o_col = torch.tensor(col_dict[move[0]], device = device)\n",
    "        # o_row = torch.abs(torch.tensor(int(move[1]) - 1, device = device) - 7)\n",
    "        o_row = torch.tensor(int(move[1]) -1, device = device)\n",
    "        e_col = torch.tensor(col_dict[move[2]], device = device)\n",
    "        e_row = torch.tensor(int(move[3]) - 1, device = device)\n",
    "\n",
    "        state[ind, o_row, o_col] = 1\n",
    "\n",
    "        if move[-1] == 'q':\n",
    "            state[ind, e_row, e_col] = 3\n",
    "        else:\n",
    "            state[ind, e_row, e_col] = 2\n",
    "\n",
    "    return state"
   ],
   "metadata": {
    "collapsed": false,
    "ExecuteTime": {
     "end_time": "2024-03-24T11:00:16.038466Z",
     "start_time": "2024-03-24T11:00:16.022203Z"
    }
   },
   "id": "48ebfb1c98dc3a5b",
   "execution_count": 52
  },
  {
   "cell_type": "code",
   "outputs": [],
   "source": [
    "def pan_sys(pred_ind, board_state: chess.Board, legal_uci, legal_san, v, captures):\n",
    "\n",
    "\n",
    "    if pred_ind >= len(legal_uci):\n",
    "        total_lm_penalty = torch.tensor(0, dtype = torch.float32, device = device)\n",
    "        total_action_penalty = torch.tensor(0, dtype = torch.float32, device = device)\n",
    "        move = None\n",
    "        # v_val = None\n",
    "    \n",
    "    else:\n",
    "        move = legal_uci[pred_ind]\n",
    "        actionn = legal_san[pred_ind]\n",
    "        action = actionn.replace('x', '').replace('+', '').replace('q', '').replace('#', '').replace('=', '')\n",
    "    \n",
    "        file = ['a', 'b', 'c', 'd', 'e', 'f', 'g', 'h']\n",
    "        s_piece = ['R', 'N', 'B']\n",
    "        capture = 'x'\n",
    "    \n",
    "    \n",
    "        if 2 < len(action) < 6 and action[0] in file:\n",
    "            action = f'p{action[1:3]}'\n",
    "        if len(actionn) == 2:\n",
    "            action = f'p{actionn}'\n",
    "        elif len(actionn) >= 6:\n",
    "            action = f'p{actionn[2:4]}'\n",
    "        elif (capture in actionn) and (actionn[0] in s_piece) and (actionn[1] in file):\n",
    "            action = actionn[:1] + actionn[2:]\n",
    "    \n",
    "        col_dict = {'a': t(0), 'b': t(1), 'c': t(2), 'd': t(3), 'e': t(4), 'f': t(5), 'g': t(6), 'h': t(7)}\n",
    "    \n",
    "        penalty_ = {'p': t(2), 'n': t(4), 'b': t(4), 'r': t(7), 'q': t(10), 'k': t(float('inf'))}\n",
    "    \n",
    "        total_lm_penalty = torch.tensor(0.5, dtype = torch.float32, device = device)\n",
    "        total_action_penalty = torch.tensor(0., dtype = torch.float32, device = device)\n",
    "    \n",
    "        if '#' in actionn:\n",
    "            total_action_penalty = total_action_penalty + 3\n",
    "    \n",
    "        base_penalty = 0.5\n",
    "    \n",
    "        if (capture not in actionn) and captures:\n",
    "            total_action_penalty = total_action_penalty - 0\n",
    "            # v_val = None\n",
    "    \n",
    "        elif  (capture not in actionn) and (not captures):\n",
    "            total_action_penalty = torch.tensor(0, dtype = torch.float32, device = device)\n",
    "    \n",
    "        else:\n",
    "            try:\n",
    "                cap_loc = action[1:3]\n",
    "                square = (torch.tensor(int(cap_loc[1]), device = device) - 1) * 8 + int(col_dict[cap_loc[0]])\n",
    "                I_piece = action[0].lower()\n",
    "                o_piece = str(board_state.piece_at(square.item())).lower()\n",
    "                refI = penalty_[I_piece]\n",
    "                refO = penalty_[o_piece]\n",
    "    \n",
    "                if refI < refO:\n",
    "                    mul = (refO - refI) / 2\n",
    "                    penalty_score = base_penalty * refO * mul\n",
    "                elif refI > refO:\n",
    "                    mul = (refI - refO)\n",
    "                    penalty_score = base_penalty * (refO / mul)\n",
    "                elif refI == refO:\n",
    "                    penalty_score = base_penalty\n",
    "                else:\n",
    "                    penalty_score = 0\n",
    "    \n",
    "                total_action_penalty  = total_action_penalty + penalty_score\n",
    "    \n",
    "            except Exception as e:\n",
    "                total_action_penalty = 'error'\n",
    "    \n",
    "            # v_val = bellman(v)\n",
    "    \n",
    "    return total_action_penalty, total_lm_penalty, move#, v_val"
   ],
   "metadata": {
    "collapsed": false,
    "ExecuteTime": {
     "end_time": "2024-03-24T11:00:16.055094Z",
     "start_time": "2024-03-24T11:00:16.039143Z"
    }
   },
   "id": "f40af59a47c5cd37",
   "execution_count": 53
  },
  {
   "cell_type": "code",
   "outputs": [],
   "source": [
    "def pg_loss(prob, r):\n",
    "    if not prob == 0 or not prob.is_nan():\n",
    "        loss = -torch.sum(torch.log(prob) * r)\n",
    "    else:\n",
    "        loss = None\n",
    "\n",
    "    return loss"
   ],
   "metadata": {
    "collapsed": false,
    "ExecuteTime": {
     "end_time": "2024-03-24T11:00:16.070052Z",
     "start_time": "2024-03-24T11:00:16.055753Z"
    }
   },
   "id": "eaac5409a73bf305",
   "execution_count": 54
  },
  {
   "cell_type": "code",
   "outputs": [],
   "source": [
    "from torch.distributions import Categorical as cate"
   ],
   "metadata": {
    "collapsed": false,
    "ExecuteTime": {
     "end_time": "2024-03-24T11:00:16.085929Z",
     "start_time": "2024-03-24T11:00:16.070727Z"
    }
   },
   "id": "10b343ba1915ee50",
   "execution_count": 55
  },
  {
   "cell_type": "code",
   "outputs": [],
   "source": [
    "class parse:\n",
    "    def __init__(self, lr, dom):\n",
    "        self.loss = t(0)\n",
    "        self.optim = torch.optim.Adam(lr = lr, params = dom.parameters())\n",
    "        self.rws = []\n",
    "        self.probs = []\n",
    "    \n",
    "    def dist(self, logi, rw):\n",
    "        \n",
    "        ino = cate(logi)\n",
    "        choice = ino.sample()\n",
    "    \n",
    "        self.probs.append(ino.log_prob(choice))\n",
    "        self.rws.append(rw)\n",
    "    \n",
    "        return choice\n",
    "    \n",
    "    def niart(self):\n",
    "    \n",
    "        policy_loss = t(0)\n",
    "    \n",
    "        for rw, prob in zip(self.rws, self.probs):\n",
    "            loss = -(rw * prob)\n",
    "    \n",
    "            policy_loss = policy_loss + loss\n",
    "    \n",
    "        self.optim.zero_grad()\n",
    "        policy_loss.backward()\n",
    "        self.optim.step()"
   ],
   "metadata": {
    "collapsed": false,
    "ExecuteTime": {
     "end_time": "2024-03-24T11:00:16.102872Z",
     "start_time": "2024-03-24T11:00:16.086433Z"
    }
   },
   "id": "6e51133eb18c8b85",
   "execution_count": 56
  },
  {
   "cell_type": "code",
   "outputs": [],
   "source": [
    "from tqdm import tqdm"
   ],
   "metadata": {
    "collapsed": false,
    "ExecuteTime": {
     "end_time": "2024-03-24T11:00:16.118594Z",
     "start_time": "2024-03-24T11:00:16.103372Z"
    }
   },
   "id": "89f0614e80502391",
   "execution_count": 57
  },
  {
   "cell_type": "code",
   "outputs": [],
   "source": [
    "def train(epos):\n",
    "    epos = range(epos) \n",
    "    for epo in tqdm(epos): \n",
    "        \n",
    "        step = 0 \n",
    "        envir = chess.Board() \n",
    "        \n",
    "        acc_move_c = 0\n",
    "        \n",
    "        acc_moves = [] \n",
    "        acc_boards = [] \n",
    "        \n",
    "        while True: \n",
    "            \n",
    "            mate = envir.is_checkmate() \n",
    "            draw = envir.is_stalemate() or envir.is_insufficient_material() \n",
    "            fin = mate or draw \n",
    "            \n",
    "            if fin: \n",
    "                break\n",
    "\n",
    "            legal_ucii, legal_sann = LMs(envir)\n",
    "\n",
    "            captures = False\n",
    "\n",
    "            for legal_san in legal_sann:\n",
    "                if 'x' in legal_san:\n",
    "                    captures = True\n",
    "\n",
    "            board = ecode_board(envir) \n",
    "            moves = ecode_moves(legal_ucii) \n",
    "            \n",
    "            if not acc_move_c == 2:\n",
    "                \n",
    "                acc_moves.append(moves) \n",
    "                acc_boards.append(board) \n",
    "                acc_move_c += 1\n",
    "            \n",
    "            else:\n",
    "                \n",
    "                acc_moves.append(moves)\n",
    "                acc_boards.append(board)\n",
    "                acc_move_c = 0\n",
    "                \n",
    "                acc_moves = torch.stack(acc_moves) \n",
    "                acc_boards = torch.stack(acc_boards) \n",
    "            \n",
    "                lego = cheslerdom(acc_moves, acc_boards) \n",
    "                print(lego.shape) \n",
    "                print(lego.device) \n",
    "                print(lego[0, :20], lego[1, :20]) \n",
    "                break\n",
    "\n",
    "            rand_uci = [envir.uci(moves) for moves in envir.legal_moves]\n",
    "            rand_move = rand_uci[torch.randint(0, len(rand_uci), (1, 1))]\n",
    "            move_rand = chess.Move.from_uci(rand_move)\n",
    "            envir.push(move_rand)"
   ],
   "metadata": {
    "collapsed": false,
    "ExecuteTime": {
     "end_time": "2024-03-24T11:02:53.270613Z",
     "start_time": "2024-03-24T11:02:53.267241Z"
    }
   },
   "id": "b10ccdb24ddabd7f",
   "execution_count": 68
  },
  {
   "cell_type": "code",
   "outputs": [
    {
     "name": "stderr",
     "output_type": "stream",
     "text": [
      "100%|██████████| 1/1 [00:00<00:00, 26.16it/s]"
     ]
    },
    {
     "name": "stdout",
     "output_type": "stream",
     "text": [
      "torch.Size([3, 120])\n",
      "cuda:0\n",
      "tensor([0.0056, 0.0089, 0.0065, 0.0081, 0.0068, 0.0087, 0.0066, 0.0063, 0.0073,\n",
      "        0.0056, 0.0053, 0.0069, 0.0128, 0.0037, 0.0086, 0.0135, 0.0064, 0.0041,\n",
      "        0.0044, 0.0046], device='cuda:0', grad_fn=<SliceBackward0>) tensor([0.0059, 0.0100, 0.0081, 0.0063, 0.0097, 0.0078, 0.0065, 0.0152, 0.0188,\n",
      "        0.0043, 0.0062, 0.0101, 0.0058, 0.0071, 0.0054, 0.0141, 0.0081, 0.0110,\n",
      "        0.0099, 0.0175], device='cuda:0', grad_fn=<SliceBackward0>)\n"
     ]
    },
    {
     "name": "stderr",
     "output_type": "stream",
     "text": [
      "\n"
     ]
    }
   ],
   "source": [
    "train(1) "
   ],
   "metadata": {
    "collapsed": false,
    "ExecuteTime": {
     "end_time": "2024-03-24T11:03:01.285454Z",
     "start_time": "2024-03-24T11:03:01.243276Z"
    }
   },
   "id": "fe99e412520d22c1",
   "execution_count": 70
  },
  {
   "cell_type": "code",
   "outputs": [],
   "source": [],
   "metadata": {
    "collapsed": false,
    "ExecuteTime": {
     "end_time": "2024-03-24T11:00:16.211606Z",
     "start_time": "2024-03-24T11:00:16.210483Z"
    }
   },
   "id": "9ec0f814a8fecbed",
   "execution_count": 59
  }
 ],
 "metadata": {
  "kernelspec": {
   "display_name": "Python 3",
   "language": "python",
   "name": "python3"
  },
  "language_info": {
   "codemirror_mode": {
    "name": "ipython",
    "version": 2
   },
   "file_extension": ".py",
   "mimetype": "text/x-python",
   "name": "python",
   "nbconvert_exporter": "python",
   "pygments_lexer": "ipython2",
   "version": "2.7.6"
  }
 },
 "nbformat": 4,
 "nbformat_minor": 5
}
