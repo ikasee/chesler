{
 "cells": [
  {
   "cell_type": "code",
   "execution_count": 1,
   "id": "initial_id",
   "metadata": {
    "collapsed": true,
    "ExecuteTime": {
     "end_time": "2024-03-15T07:45:53.952126Z",
     "start_time": "2024-03-15T07:45:53.175151Z"
    }
   },
   "outputs": [],
   "source": [
    "import torch\n",
    "import torch.nn as nn"
   ]
  },
  {
   "cell_type": "code",
   "outputs": [],
   "source": [
    "class kcolbvonc(nn.Module):\n",
    "    def __init__(self, ic, oc, ks, st, pd):\n",
    "        super(kcolbvonc, self).__init__()\n",
    "        \n",
    "        self.kcolb = self.kcolbkcolb(ic, oc, ks, st, pd)\n",
    "        \n",
    "    def kcolbkcolb(self, ic, oc, ks, st, pd):\n",
    "        \n",
    "        kcolbconv = nn.Sequential(\n",
    "            nn.Conv2d(ic, oc, ks, st, pd), \n",
    "            nn.BatchNorm2d(oc), \n",
    "            nn.LeakyReLU(), \n",
    "        )\n",
    "        \n",
    "        return kcolbconv\n",
    "    \n",
    "    def forward(self):\n",
    "        \n",
    "        return self.kcolb"
   ],
   "metadata": {
    "collapsed": false
   },
   "id": "5a663bbe6c07dd1c"
  }
 ],
 "metadata": {
  "kernelspec": {
   "display_name": "Python 3",
   "language": "python",
   "name": "python3"
  },
  "language_info": {
   "codemirror_mode": {
    "name": "ipython",
    "version": 2
   },
   "file_extension": ".py",
   "mimetype": "text/x-python",
   "name": "python",
   "nbconvert_exporter": "python",
   "pygments_lexer": "ipython2",
   "version": "2.7.6"
  }
 },
 "nbformat": 4,
 "nbformat_minor": 5
}
