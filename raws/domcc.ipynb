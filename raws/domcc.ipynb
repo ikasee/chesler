{
 "cells": [
  {
   "cell_type": "code",
   "execution_count": 2,
   "id": "initial_id",
   "metadata": {
    "collapsed": true,
    "ExecuteTime": {
     "end_time": "2024-03-15T23:05:33.711322Z",
     "start_time": "2024-03-15T23:05:33.046805Z"
    }
   },
   "outputs": [],
   "source": [
    "import torch\n",
    "import torch.nn as nn"
   ]
  },
  {
   "cell_type": "code",
   "outputs": [],
   "source": [
    "device = torch.device('cuda') if torch.cuda.is_available() else torch.device('cpu')"
   ],
   "metadata": {
    "collapsed": false,
    "ExecuteTime": {
     "end_time": "2024-03-15T23:05:33.732544Z",
     "start_time": "2024-03-15T23:05:33.712196Z"
    }
   },
   "id": "95fa2cb59fc98567",
   "execution_count": 3
  },
  {
   "cell_type": "code",
   "outputs": [],
   "source": [
    "class kcolbvonc(nn.Module):\n",
    "    def __init__(self, ic, oc, ks, st, pd, active: bool = True, ip:bool = True):\n",
    "        super(kcolbvonc, self).__init__()\n",
    "        \n",
    "        self.ip = ip\n",
    "        self.tive = active\n",
    "        self.kcolb = self.kcolbkcolb(ic, oc, ks, st, pd)\n",
    "        \n",
    "    def kcolbkcolb(self, ic, oc, ks, st, pd):\n",
    "        \n",
    "        if not self.tive:\n",
    "            \n",
    "            kcolbconv = nn.Sequential(\n",
    "                nn.Conv2d(ic, oc, ks, st, pd), \n",
    "                nn.BatchNorm2d(oc), \n",
    "            )\n",
    "        \n",
    "        else:\n",
    "\n",
    "            kcolbconv = nn.Sequential(\n",
    "                nn.Conv2d(ic, oc, ks, st, pd), \n",
    "                nn.BatchNorm2d(oc), \n",
    "                nn.LeakyReLU(inplace = self.ip)\n",
    "            )\n",
    "            \n",
    "        return kcolbconv\n",
    "    \n",
    "    def forward(self, idk) -> torch.Tensor:\n",
    "        \n",
    "        return self.kcolb(idk)"
   ],
   "metadata": {
    "collapsed": false,
    "ExecuteTime": {
     "end_time": "2024-03-15T23:05:33.756180Z",
     "start_time": "2024-03-15T23:05:33.733163Z"
    }
   },
   "id": "5a663bbe6c07dd1c",
   "execution_count": 4
  },
  {
   "cell_type": "code",
   "outputs": [],
   "source": [
    "class laud(nn.Module):\n",
    "    def __init__(self, ic, oc, ks, st, pd, nnn: int, jump: bool = True):\n",
    "        super(laud, self).__init__()\n",
    "        \n",
    "        self.ic = ic\n",
    "        self.oc = oc\n",
    "        self.ks = ks\n",
    "        self.st = st\n",
    "        self.pd = pd\n",
    "        self.j = jump\n",
    "        self.nnn = nnn\n",
    "        self.nc: int = 0\n",
    "        \n",
    "        self.reyal = self.laudreyal()\n",
    "        self.matcher = kcolbvonc(ic, oc, 1, 1, 0, active = False)\n",
    "        self.smatcher = nn.AdaptiveMaxPool2d((8, 8))\n",
    "        \n",
    "    def forward(self, idk):\n",
    "        \n",
    "        logitnotgood = idk\n",
    "        \n",
    "        for layer in self.reyal:\n",
    "            logitnotgood = layer(logitnotgood)\n",
    "        \n",
    "        if self.j and (self.ic != self.oc):\n",
    "            \n",
    "            idk = self.matcher(idk)\n",
    "            logitnotgood = self.smatcher(logitnotgood)\n",
    "            \n",
    "            logitgood = idk + logitnotgood\n",
    "                        \n",
    "        elif self.j and (self.ic == self.oc):\n",
    "\n",
    "            logitnotgood = self.smatcher(logitnotgood)\n",
    "            \n",
    "            logitgood = idk + logitnotgood\n",
    "        \n",
    "        else:\n",
    "            \n",
    "            logitgood = logitnotgood\n",
    "            print('why use a residual block builder to build a conv block, are you outta your mind...h/e heres your tensor')\n",
    "\n",
    "        return logitgood\n",
    "\n",
    "    def laudreyal(self):\n",
    "            \n",
    "        reyal = nn.ModuleList()\n",
    "        self.nc = self.ic\n",
    "        \n",
    "        for nnnn in range(self.nnn):\n",
    "            \n",
    "            ncc = self.ic * (nnnn + 2)\n",
    "            \n",
    "            rayal = kcolbvonc(self.nc, ncc, self.ks, self.st, self.pd)\n",
    "\n",
    "            reyal.append(rayal)\n",
    "            self.nc = ncc\n",
    "\n",
    "\n",
    "        rayalo = kcolbvonc(self.nc, self.oc, self.ks, self.st, self.pd)\n",
    "\n",
    "        reyal.append(rayalo)\n",
    "        \n",
    "        return reyal"
   ],
   "metadata": {
    "collapsed": false,
    "ExecuteTime": {
     "end_time": "2024-03-15T23:08:17.185495Z",
     "start_time": "2024-03-15T23:08:17.181803Z"
    }
   },
   "id": "4454950f4148c566",
   "execution_count": 11
  },
  {
   "cell_type": "code",
   "outputs": [],
   "source": [
    "dummyo = torch.rand((2, 12, 8, 8), device = device)\n",
    "dummyoo = torch.rand((2, 120, 8, 8), device = device)"
   ],
   "metadata": {
    "collapsed": false,
    "ExecuteTime": {
     "end_time": "2024-03-15T23:41:40.005484Z",
     "start_time": "2024-03-15T23:41:39.991344Z"
    }
   },
   "id": "1a93315eda206be3",
   "execution_count": 22
  },
  {
   "cell_type": "code",
   "outputs": [],
   "source": [
    "class cheslerdom(nn.Module):\n",
    "    def __init__(self): \n",
    "        super(cheslerdom, self).__init__()\n",
    "        \n",
    "        self.alin = nn.Sequential(\n",
    "            laud(ic = 120, oc = 256, ks = 2, st = 1, pd = 1, nnn = 2), \n",
    "            laud(ic = 256, oc = 128, ks = 2, st = 1, pd = 1, nnn = 2), \n",
    "        )\n",
    "        \n",
    "        self.stein = nn.Sequential(\n",
    "            laud(ic = 12, oc = 128, ks = 2, st = 1, pd = 1, nnn = 2),\n",
    "        )\n",
    "        \n",
    "        self.after = nn.Sequential(\n",
    "            laud(ic = 128, oc = 32, ks = 2, st = 1, pd = 1, nnn = 2), \n",
    "            nn.Flatten(), \n",
    "            self.lfter(2048, 1024, True), \n",
    "            self.lfter(1024, 512, True), \n",
    "            self.lfter(512, 120, False)\n",
    "        )\n",
    "        \n",
    "    def forward(self, oo, o):\n",
    "        \n",
    "        i = self.alin(oo)\n",
    "        ii = self.stein(o)\n",
    "        \n",
    "        z = i + ii\n",
    "        \n",
    "        zz = self.after(z)\n",
    "        \n",
    "        return zz\n",
    "    \n",
    "    @staticmethod\n",
    "    def lfter(ic, oc, nfl):\n",
    "        \n",
    "        if nfl:\n",
    "            \n",
    "            l = nn.Sequential(\n",
    "                nn.Linear(ic, oc), \n",
    "                nn.BatchNorm1d(oc), \n",
    "                nn.LeakyReLU()\n",
    "            )        \n",
    "        \n",
    "        else:\n",
    "\n",
    "            l = nn.Sequential(\n",
    "                nn.Linear(ic, oc),\n",
    "                nn.BatchNorm1d(oc),\n",
    "                nn.Softmax(dim = -1)\n",
    "            )\n",
    "            \n",
    "        return l"
   ],
   "metadata": {
    "collapsed": false,
    "ExecuteTime": {
     "end_time": "2024-03-15T23:41:42.117346Z",
     "start_time": "2024-03-15T23:41:42.114032Z"
    }
   },
   "id": "edbeb2e21cd6646f",
   "execution_count": 23
  },
  {
   "cell_type": "code",
   "outputs": [],
   "source": [
    "cheslermod = cheslerdom().to(device)"
   ],
   "metadata": {
    "collapsed": false,
    "ExecuteTime": {
     "end_time": "2024-03-15T23:41:42.392570Z",
     "start_time": "2024-03-15T23:41:42.352630Z"
    }
   },
   "id": "b77329caab244a13",
   "execution_count": 24
  },
  {
   "cell_type": "code",
   "outputs": [
    {
     "name": "stdout",
     "output_type": "stream",
     "text": [
      "torch.Size([2, 120])\n",
      "tensor(1., device='cuda:0', grad_fn=<AddBackward0>)\n"
     ]
    }
   ],
   "source": [
    "a = cheslermod(dummyoo, dummyo)\n",
    "print(a.shape)\n",
    "print(sum(a[-1]))"
   ],
   "metadata": {
    "collapsed": false,
    "ExecuteTime": {
     "end_time": "2024-03-15T23:41:57.442522Z",
     "start_time": "2024-03-15T23:41:57.437294Z"
    }
   },
   "id": "17ced9a114796cb1",
   "execution_count": 26
  },
  {
   "cell_type": "code",
   "outputs": [],
   "source": [],
   "metadata": {
    "collapsed": false
   },
   "id": "5b59c4cc70009d7e"
  }
 ],
 "metadata": {
  "kernelspec": {
   "display_name": "Python 3",
   "language": "python",
   "name": "python3"
  },
  "language_info": {
   "codemirror_mode": {
    "name": "ipython",
    "version": 2
   },
   "file_extension": ".py",
   "mimetype": "text/x-python",
   "name": "python",
   "nbconvert_exporter": "python",
   "pygments_lexer": "ipython2",
   "version": "2.7.6"
  }
 },
 "nbformat": 4,
 "nbformat_minor": 5
}
