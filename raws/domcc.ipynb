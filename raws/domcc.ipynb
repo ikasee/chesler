{
 "cells": [
  {
   "cell_type": "code",
   "execution_count": 77,
   "id": "initial_id",
   "metadata": {
    "collapsed": true,
    "ExecuteTime": {
     "end_time": "2024-03-25T10:47:34.226814Z",
     "start_time": "2024-03-25T10:47:34.225109Z"
    }
   },
   "outputs": [],
   "source": [
    "import torch\n",
    "import torch.nn as nn\n",
    "import chess"
   ]
  },
  {
   "cell_type": "code",
   "outputs": [],
   "source": [
    "device = torch.device('cuda') if torch.cuda.is_available() else torch.device('cpu')"
   ],
   "metadata": {
    "collapsed": false,
    "ExecuteTime": {
     "end_time": "2024-03-25T10:47:34.260195Z",
     "start_time": "2024-03-25T10:47:34.258601Z"
    }
   },
   "id": "95fa2cb59fc98567",
   "execution_count": 78
  },
  {
   "cell_type": "code",
   "outputs": [],
   "source": [
    "class kcolbvonc(nn.Module):\n",
    "    def __init__(self, ic, oc, ks, st, pd, active: bool = True, ip:bool = True):\n",
    "        super(kcolbvonc, self).__init__()\n",
    "        \n",
    "        self.ip = ip\n",
    "        self.tive = active\n",
    "        self.kcolb = self.kcolbkcolb(ic, oc, ks, st, pd)\n",
    "        \n",
    "    def kcolbkcolb(self, ic, oc, ks, st, pd):\n",
    "        \n",
    "        if not self.tive:\n",
    "            \n",
    "            kcolbconv = nn.Sequential(\n",
    "                nn.Conv2d(ic, oc, ks, st, pd), \n",
    "                nn.BatchNorm2d(oc), \n",
    "            )\n",
    "        \n",
    "        else:\n",
    "\n",
    "            kcolbconv = nn.Sequential(\n",
    "                nn.Conv2d(ic, oc, ks, st, pd), \n",
    "                nn.BatchNorm2d(oc), \n",
    "                nn.LeakyReLU(inplace = self.ip)\n",
    "            )\n",
    "            \n",
    "        return kcolbconv\n",
    "    \n",
    "    def forward(self, idk) -> torch.Tensor:\n",
    "        \n",
    "        return self.kcolb(idk)"
   ],
   "metadata": {
    "collapsed": false,
    "ExecuteTime": {
     "end_time": "2024-03-25T10:47:34.288044Z",
     "start_time": "2024-03-25T10:47:34.285454Z"
    }
   },
   "id": "5a663bbe6c07dd1c",
   "execution_count": 79
  },
  {
   "cell_type": "code",
   "outputs": [],
   "source": [
    "class laud(nn.Module):\n",
    "    def __init__(self, ic, oc, ks, st, pd, nnn: int, jump: bool = True):\n",
    "        super(laud, self).__init__()\n",
    "        \n",
    "        self.ic = ic\n",
    "        self.oc = oc\n",
    "        self.ks = ks\n",
    "        self.st = st\n",
    "        self.pd = pd\n",
    "        self.j = jump\n",
    "        self.nnn = nnn\n",
    "        self.nc: int = 0\n",
    "        \n",
    "        self.reyal = self.laudreyal()\n",
    "        self.matcher = kcolbvonc(ic, oc, 1, 1, 0, active = False)\n",
    "        self.smatcher = nn.AdaptiveMaxPool2d((8, 8))\n",
    "        \n",
    "    def forward(self, idk):\n",
    "        \n",
    "        logitnotgood = idk\n",
    "        \n",
    "        for layer in self.reyal:\n",
    "            logitnotgood = layer(logitnotgood)\n",
    "        \n",
    "        if self.j and (self.ic != self.oc):\n",
    "            \n",
    "            idk = self.matcher(idk)\n",
    "            logitnotgood = self.smatcher(logitnotgood)\n",
    "            \n",
    "            logitgood = idk + logitnotgood\n",
    "                        \n",
    "        elif self.j and (self.ic == self.oc):\n",
    "\n",
    "            logitnotgood = self.smatcher(logitnotgood)\n",
    "            \n",
    "            logitgood = idk + logitnotgood\n",
    "        \n",
    "        else:\n",
    "            \n",
    "            logitgood = logitnotgood\n",
    "            print('using a residual block builder to build a conv block? are you outta your mind...h/e heres your tensor')\n",
    "\n",
    "        return logitgood\n",
    "\n",
    "    def laudreyal(self):\n",
    "            \n",
    "        reyal = nn.ModuleList()\n",
    "        self.nc = self.ic\n",
    "        \n",
    "        for nnnn in range(self.nnn):\n",
    "            \n",
    "            ncc = self.ic * (nnnn + 2)\n",
    "            \n",
    "            rayal = kcolbvonc(self.nc, ncc, self.ks, self.st, self.pd)\n",
    "\n",
    "            reyal.append(rayal)\n",
    "            self.nc = ncc\n",
    "\n",
    "\n",
    "        rayalo = kcolbvonc(self.nc, self.oc, self.ks, self.st, self.pd)\n",
    "\n",
    "        reyal.append(rayalo)\n",
    "        \n",
    "        return reyal"
   ],
   "metadata": {
    "collapsed": false,
    "ExecuteTime": {
     "end_time": "2024-03-25T10:47:34.306565Z",
     "start_time": "2024-03-25T10:47:34.288730Z"
    }
   },
   "id": "4454950f4148c566",
   "execution_count": 80
  },
  {
   "cell_type": "code",
   "outputs": [],
   "source": [
    "dummyo = torch.rand((2, 12, 8, 8), device = device)\n",
    "dummyoo = torch.rand((2, 120, 8, 8), device = device)"
   ],
   "metadata": {
    "collapsed": false,
    "ExecuteTime": {
     "end_time": "2024-03-25T10:47:34.338855Z",
     "start_time": "2024-03-25T10:47:34.307037Z"
    }
   },
   "id": "1a93315eda206be3",
   "execution_count": 81
  },
  {
   "cell_type": "code",
   "outputs": [],
   "source": [
    "class cheslermod(nn.Module):\n",
    "    def __init__(self): \n",
    "        super(cheslermod, self).__init__()\n",
    "        \n",
    "        self.alin = nn.Sequential(\n",
    "            laud(ic = 120, oc = 256, ks = 2, st = 1, pd = 1, nnn = 2), \n",
    "            laud(ic = 256, oc = 128, ks = 2, st = 1, pd = 1, nnn = 2), \n",
    "        )\n",
    "        \n",
    "        self.stein = nn.Sequential(\n",
    "            laud(ic = 12, oc = 128, ks = 2, st = 1, pd = 1, nnn = 2),\n",
    "        )\n",
    "        \n",
    "        self.after = nn.Sequential(\n",
    "            laud(ic = 128, oc = 32, ks = 2, st = 1, pd = 1, nnn = 2), \n",
    "            nn.Flatten(), \n",
    "            self.lfter(2048, 1024, True), \n",
    "            self.lfter(1024, 512, True), \n",
    "            self.lfter(512, 120, False)\n",
    "        )\n",
    "        \n",
    "    def forward(self, oo, o):\n",
    "        \n",
    "        i = self.alin(oo)\n",
    "        ii = self.stein(o)\n",
    "        \n",
    "        z = i + ii\n",
    "        \n",
    "        zz = self.after(z)\n",
    "        \n",
    "        return zz\n",
    "    \n",
    "    @staticmethod\n",
    "    def lfter(ic, oc, nfl):\n",
    "        \n",
    "        if nfl:\n",
    "            \n",
    "            l = nn.Sequential(\n",
    "                nn.Linear(ic, oc), \n",
    "                nn.BatchNorm1d(oc), \n",
    "                nn.LeakyReLU(inplace = True)\n",
    "            )        \n",
    "        \n",
    "        else:\n",
    "\n",
    "            l = nn.Sequential(\n",
    "                nn.Linear(ic, oc),\n",
    "                nn.Softmax(dim = -1)\n",
    "            )\n",
    "            \n",
    "        return l"
   ],
   "metadata": {
    "collapsed": false,
    "ExecuteTime": {
     "end_time": "2024-03-25T10:47:34.342459Z",
     "start_time": "2024-03-25T10:47:34.339495Z"
    }
   },
   "id": "edbeb2e21cd6646f",
   "execution_count": 82
  },
  {
   "cell_type": "code",
   "outputs": [],
   "source": [
    "cheslerdom = cheslermod().to(device)"
   ],
   "metadata": {
    "collapsed": false,
    "ExecuteTime": {
     "end_time": "2024-03-25T10:47:34.386738Z",
     "start_time": "2024-03-25T10:47:34.343228Z"
    }
   },
   "id": "b77329caab244a13",
   "execution_count": 83
  },
  {
   "cell_type": "code",
   "outputs": [
    {
     "name": "stdout",
     "output_type": "stream",
     "text": [
      "torch.Size([2, 120])\n",
      "tensor(1.0000, device='cuda:0', grad_fn=<AddBackward0>)\n",
      "tensor([0.0048, 0.0072, 0.0124, 0.0056, 0.0093, 0.0086, 0.0079, 0.0088, 0.0068,\n",
      "        0.0108, 0.0080, 0.0124, 0.0061, 0.0097, 0.0081, 0.0079, 0.0079, 0.0036,\n",
      "        0.0046, 0.0127, 0.0052, 0.0037, 0.0107, 0.0072, 0.0039, 0.0042, 0.0088,\n",
      "        0.0098, 0.0047, 0.0089, 0.0021, 0.0100, 0.0067, 0.0053, 0.0049, 0.0091,\n",
      "        0.0065, 0.0071, 0.0147, 0.0091, 0.0064, 0.0084, 0.0129, 0.0081, 0.0117,\n",
      "        0.0052, 0.0066, 0.0098, 0.0050, 0.0055, 0.0071, 0.0057, 0.0098, 0.0035,\n",
      "        0.0074, 0.0197, 0.0097, 0.0091, 0.0086, 0.0067, 0.0121, 0.0097, 0.0038,\n",
      "        0.0083, 0.0066, 0.0057, 0.0161, 0.0193, 0.0164, 0.0067, 0.0076, 0.0050,\n",
      "        0.0088, 0.0232, 0.0092, 0.0048, 0.0110, 0.0072, 0.0058, 0.0061, 0.0087,\n",
      "        0.0065, 0.0118, 0.0082, 0.0093, 0.0072, 0.0047, 0.0165, 0.0046, 0.0116,\n",
      "        0.0074, 0.0055, 0.0047, 0.0055, 0.0108, 0.0059, 0.0099, 0.0057, 0.0054,\n",
      "        0.0053, 0.0065, 0.0169, 0.0150, 0.0078, 0.0078, 0.0043, 0.0085, 0.0056,\n",
      "        0.0085, 0.0096, 0.0091, 0.0081, 0.0059, 0.0093, 0.0143, 0.0136, 0.0092,\n",
      "        0.0086, 0.0075, 0.0025], device='cuda:0', grad_fn=<SelectBackward0>)\n",
      "tensor(73, device='cuda:0')\n"
     ]
    }
   ],
   "source": [
    "a = cheslerdom(dummyoo, dummyo)\n",
    "print(a.shape)\n",
    "print(sum(a[-1]))\n",
    "print(a[0])\n",
    "print(torch.argmax(a[0]))"
   ],
   "metadata": {
    "collapsed": false,
    "ExecuteTime": {
     "end_time": "2024-03-25T10:47:34.394291Z",
     "start_time": "2024-03-25T10:47:34.387411Z"
    }
   },
   "id": "17ced9a114796cb1",
   "execution_count": 84
  },
  {
   "cell_type": "code",
   "outputs": [],
   "source": [
    "def t(tensor):\n",
    "    return torch.tensor(tensor, device = device, dtype = torch.float16)"
   ],
   "metadata": {
    "collapsed": false,
    "ExecuteTime": {
     "end_time": "2024-03-25T10:47:34.405419Z",
     "start_time": "2024-03-25T10:47:34.394698Z"
    }
   },
   "id": "5b59c4cc70009d7e",
   "execution_count": 85
  },
  {
   "cell_type": "code",
   "outputs": [],
   "source": [
    "def LMs(board: chess.Board):\n",
    "\n",
    "    legal_moves = list(board.legal_moves)\n",
    "    legal_moves_san = [board.san(moves) for moves in legal_moves]\n",
    "    legal_moves_uci = [board.uci(moves) for moves in legal_moves]\n",
    "\n",
    "    return legal_moves_uci, legal_moves_san"
   ],
   "metadata": {
    "collapsed": false,
    "ExecuteTime": {
     "end_time": "2024-03-25T10:47:34.423314Z",
     "start_time": "2024-03-25T10:47:34.406114Z"
    }
   },
   "id": "de66e5c4ca961e59",
   "execution_count": 86
  },
  {
   "cell_type": "code",
   "outputs": [],
   "source": [
    "def ecode_board(board: chess.Board):\n",
    "\n",
    "    board_enc = torch.zeros((12, 8, 8), device = device)\n",
    "\n",
    "    oh_label = {\n",
    "        'P': 0,\n",
    "        'R': 1,\n",
    "        'N': 2,\n",
    "        'B': 3,\n",
    "        'Q': 4,\n",
    "        'K': 5,\n",
    "        'p': 6,\n",
    "        'r': 7,\n",
    "        'n': 8,\n",
    "        'b': 9,\n",
    "        'q': 10,\n",
    "        'k': 11\n",
    "    }\n",
    "\n",
    "    for square in chess.SQUARES:\n",
    "\n",
    "        piece = board.piece_at(square)\n",
    "\n",
    "        if piece:\n",
    "\n",
    "            board_count = oh_label[str(piece)]\n",
    "            row_count, col_count = torch.tensor(divmod(square, 8), device = device)\n",
    "            col_count = torch.abs(col_count - 7)\n",
    "\n",
    "            board_enc[board_count, row_count, col_count] = 1\n",
    "\n",
    "    return board_enc"
   ],
   "metadata": {
    "collapsed": false,
    "ExecuteTime": {
     "end_time": "2024-03-25T10:47:34.440998Z",
     "start_time": "2024-03-25T10:47:34.423816Z"
    }
   },
   "id": "f5f928e032118e78",
   "execution_count": 87
  },
  {
   "cell_type": "code",
   "outputs": [],
   "source": [
    "def ecode_moves(moves: list):\n",
    "\n",
    "    state = torch.zeros((120, 8, 8), device = device)\n",
    "    # col_dict = {'a': 0, 'b': 1, 'c': 2, 'd': 3, 'e': 4, 'f': 5, 'g': 6, 'h': 7}\n",
    "    col_dict = {'a': 7, 'b': 6, 'c': 5, 'd': 4, 'e': 3, 'f': 2, 'g': 1, 'h': 0}\n",
    "    for ind, move in enumerate(moves[:120]):\n",
    "\n",
    "        o_col = torch.tensor(col_dict[move[0]], device = device)\n",
    "        # o_row = torch.abs(torch.tensor(int(move[1]) - 1, device = device) - 7)\n",
    "        o_row = torch.tensor(int(move[1]) -1, device = device)\n",
    "        e_col = torch.tensor(col_dict[move[2]], device = device)\n",
    "        e_row = torch.tensor(int(move[3]) - 1, device = device)\n",
    "\n",
    "        state[ind, o_row, o_col] = 1\n",
    "\n",
    "        if move[-1] == 'q':\n",
    "            state[ind, e_row, e_col] = 3\n",
    "        else:\n",
    "            state[ind, e_row, e_col] = 2\n",
    "\n",
    "    return state"
   ],
   "metadata": {
    "collapsed": false,
    "ExecuteTime": {
     "end_time": "2024-03-25T10:47:34.463525Z",
     "start_time": "2024-03-25T10:47:34.441814Z"
    }
   },
   "id": "48ebfb1c98dc3a5b",
   "execution_count": 88
  },
  {
   "cell_type": "code",
   "outputs": [],
   "source": [
    "def pan_sys(pred_ind, board_state: chess.Board, legal_uci, legal_san, v, captures):\n",
    "\n",
    "\n",
    "    if pred_ind >= len(legal_uci): \n",
    "        \n",
    "        total_lm_penalty = torch.tensor(0, dtype = torch.float32, device = device)\n",
    "        total_action_penalty = torch.tensor(0, dtype = torch.float32, device = device)\n",
    "        move = None\n",
    "        # v_val = None\n",
    "    \n",
    "    else:\n",
    "        move = legal_uci[pred_ind]\n",
    "        actionn = legal_san[pred_ind]\n",
    "        action = actionn.replace('x', '').replace('+', '').replace('q', '').replace('#', '').replace('=', '')\n",
    "    \n",
    "        file = ['a', 'b', 'c', 'd', 'e', 'f', 'g', 'h']\n",
    "        s_piece = ['R', 'N', 'B']\n",
    "        capture = 'x'\n",
    "    \n",
    "    \n",
    "        if 2 < len(action) < 6 and action[0] in file:\n",
    "            action = f'p{action[1:3]}'\n",
    "        if len(actionn) == 2:\n",
    "            action = f'p{actionn}'\n",
    "        elif len(actionn) >= 6:\n",
    "            action = f'p{actionn[2:4]}'\n",
    "        elif (capture in actionn) and (actionn[0] in s_piece) and (actionn[1] in file):\n",
    "            action = actionn[:1] + actionn[2:]\n",
    "    \n",
    "        col_dict = {'a': t(0), 'b': t(1), 'c': t(2), 'd': t(3), 'e': t(4), 'f': t(5), 'g': t(6), 'h': t(7)}\n",
    "    \n",
    "        penalty_ = {'p': t(2), 'n': t(4), 'b': t(4), 'r': t(7), 'q': t(10), 'k': t(float('inf'))}\n",
    "    \n",
    "        total_lm_penalty = torch.tensor(0.5, dtype = torch.float32, device = device)\n",
    "        total_action_penalty = torch.tensor(0., dtype = torch.float32, device = device)\n",
    "    \n",
    "        if '#' in actionn:\n",
    "            total_action_penalty = total_action_penalty + 3\n",
    "    \n",
    "        base_penalty = 0.5\n",
    "    \n",
    "        if (capture not in actionn) and captures:\n",
    "            total_action_penalty = total_action_penalty - 0\n",
    "            # v_val = None\n",
    "    \n",
    "        elif  (capture not in actionn) and (not captures):\n",
    "            total_action_penalty = torch.tensor(0, dtype = torch.float32, device = device)\n",
    "    \n",
    "        else:\n",
    "            try:\n",
    "                cap_loc = action[1:3]\n",
    "                square = (torch.tensor(int(cap_loc[1]), device = device) - 1) * 8 + int(col_dict[cap_loc[0]])\n",
    "                I_piece = action[0].lower()\n",
    "                o_piece = str(board_state.piece_at(square.item())).lower()\n",
    "                refI = penalty_[I_piece]\n",
    "                refO = penalty_[o_piece]\n",
    "    \n",
    "                if refI < refO:\n",
    "                    mul = (refO - refI) / 2\n",
    "                    penalty_score = base_penalty * refO * mul\n",
    "                elif refI > refO:\n",
    "                    mul = (refI - refO)\n",
    "                    penalty_score = base_penalty * (refO / mul)\n",
    "                elif refI == refO:\n",
    "                    penalty_score = base_penalty\n",
    "                else:\n",
    "                    penalty_score = 0\n",
    "    \n",
    "                total_action_penalty  = total_action_penalty + penalty_score\n",
    "    \n",
    "            except Exception as e:\n",
    "                total_action_penalty = 0\n",
    "    \n",
    "            # v_val = bellman(v)\n",
    "    return total_action_penalty + total_lm_penalty #, move #, v_val"
   ],
   "metadata": {
    "collapsed": false,
    "ExecuteTime": {
     "end_time": "2024-03-25T11:45:08.439655Z",
     "start_time": "2024-03-25T11:45:08.434497Z"
    }
   },
   "id": "f40af59a47c5cd37",
   "execution_count": 200
  },
  {
   "cell_type": "code",
   "outputs": [],
   "source": [
    "def pg_loss(prob, r):\n",
    "    if not prob == 0 or not prob.is_nan():\n",
    "        loss = -torch.sum(torch.log(prob) * r)\n",
    "    else:\n",
    "        loss = None\n",
    "\n",
    "    return loss"
   ],
   "metadata": {
    "collapsed": false,
    "ExecuteTime": {
     "end_time": "2024-03-25T11:45:08.710636Z",
     "start_time": "2024-03-25T11:45:08.708592Z"
    }
   },
   "id": "eaac5409a73bf305",
   "execution_count": 201
  },
  {
   "cell_type": "code",
   "outputs": [],
   "source": [
    "from torch.distributions import Categorical"
   ],
   "metadata": {
    "collapsed": false,
    "ExecuteTime": {
     "end_time": "2024-03-25T11:45:08.915345Z",
     "start_time": "2024-03-25T11:45:08.913536Z"
    }
   },
   "id": "10b343ba1915ee50",
   "execution_count": 202
  },
  {
   "cell_type": "code",
   "outputs": [],
   "source": [
    "def ep(prob_dist, true): \n",
    "    n = torch.rand(1) \n",
    "    ex = True\n",
    "    if n >= 0.5: \n",
    "        move = torch.argmax(prob_dist, dim = -1) \n",
    "        ex = False\n",
    "    else: \n",
    "        move = torch.randint(0, len(true), (1, prob_dist.size(0))).squeeze() \n",
    "        \n",
    "    return move, ex "
   ],
   "metadata": {
    "collapsed": false,
    "ExecuteTime": {
     "end_time": "2024-03-25T11:45:09.132371Z",
     "start_time": "2024-03-25T11:45:09.130423Z"
    }
   },
   "id": "1326ec8defdff15d",
   "execution_count": 203
  },
  {
   "cell_type": "code",
   "outputs": [],
   "source": [
    "class renair: \n",
    "    def __init__(self, learning_rate): \n",
    "        \n",
    "        self.dom = cheslermod().to(device)\n",
    "        self.chesleropt = torch.optim.Adam(lr = learning_rate, params = self.dom.parameters())\n",
    "        self.accurws = [] \n",
    "        self.accuprobs = [] \n",
    "        self.gmrws = []\n",
    "        \n",
    "    def update(self, stacked_moves, stacked_states, uci, san, cap, boards): \n",
    "        \n",
    "        stigol = self.dom(stacked_moves, stacked_states) \n",
    "        # probs = Categorical(stigol) \n",
    "        inxs, exploration = ep(stigol, uci)\n",
    "        sampleprobs = [stigol[d, inxs[d]] for d in range(len(inxs))] \n",
    "        \n",
    "        for inx, prob, board in zip(inxs, sampleprobs, boards): \n",
    "            \n",
    "            rw = pan_sys(inx, stacked_states, uci, san, 0, cap) \n",
    "            self.accurws.append(rw) \n",
    "            self.accuprobs.append(prob) \n",
    "        \n",
    "        return inxs[-1] \n",
    "        \n",
    "    def train(self, γ): \n",
    "        \n",
    "        for rw in self.accurws: \n",
    "            self.gmrws.append((rw * γ)) \n",
    "        \n",
    "        self.gmrws, self.accuprobs, self.accurws = t(self.gmrws), t(self.accuprobs), t(self.accurws) \n",
    "        \n",
    "        self.accuprobs = torch.log(self.accuprobs) \n",
    "        \n",
    "        loss = -(self.accuprobs * self.gmrws).mean() \n",
    "        print(loss.requires_grad_())\n",
    "        self.chesleropt.zero_grad() \n",
    "        loss.backward() \n",
    "        self.chesleropt.step()\n",
    "\n",
    "        self.accurws = []\n",
    "        self.accuprobs = []\n",
    "        self.gmrws = []\n",
    "        \n",
    "renairt = renair(0.001) "
   ],
   "metadata": {
    "collapsed": false,
    "ExecuteTime": {
     "end_time": "2024-03-25T11:46:20.336159Z",
     "start_time": "2024-03-25T11:46:20.272278Z"
    }
   },
   "id": "6e51133eb18c8b85",
   "execution_count": 212
  },
  {
   "cell_type": "code",
   "outputs": [],
   "source": [
    "from tqdm import tqdm"
   ],
   "metadata": {
    "collapsed": false,
    "ExecuteTime": {
     "end_time": "2024-03-25T11:46:20.872172Z",
     "start_time": "2024-03-25T11:46:20.870381Z"
    }
   },
   "id": "89f0614e80502391",
   "execution_count": 213
  },
  {
   "cell_type": "code",
   "outputs": [],
   "source": [
    "def train(epos):\n",
    "    epos = range(epos) \n",
    "    for epo in tqdm(epos): \n",
    "        \n",
    "        step = 0 \n",
    "        envir = chess.Board() \n",
    "        \n",
    "        acc_move_c = 0\n",
    "        \n",
    "        acc_moves = [] \n",
    "        acc_states = [] \n",
    "        acc_boards = []\n",
    "        \n",
    "        while True: \n",
    "            \n",
    "            mate = envir.is_checkmate() \n",
    "            draw = envir.is_stalemate() or envir.is_insufficient_material() \n",
    "            fin = mate or draw \n",
    "            \n",
    "            if fin: \n",
    "                break\n",
    "\n",
    "            legal_ucii, legal_sann = LMs(envir)\n",
    "\n",
    "            captures = False\n",
    "\n",
    "            for legal_san in legal_sann:\n",
    "                if 'x' in legal_san:\n",
    "                    captures = True\n",
    "\n",
    "            state = ecode_board(envir) \n",
    "            moves = ecode_moves(legal_ucii) \n",
    "            \n",
    "            rand_move = legal_ucii[torch.randint(0, len(legal_ucii), (1, 1))]\n",
    "            move_rand = chess.Move.from_uci(rand_move)\n",
    "            \n",
    "            if not acc_move_c == 2:\n",
    "                \n",
    "                acc_moves.append(moves) \n",
    "                acc_states.append(state) \n",
    "                acc_boards.append(envir) \n",
    "                acc_move_c += 1\n",
    "                envir.push(move_rand)\n",
    "                \n",
    "            else:\n",
    "                \n",
    "                acc_moves.append(moves) \n",
    "                acc_states.append(state)\n",
    "                acc_boards.append(envir) \n",
    "                acc_move_c = 0\n",
    "                \n",
    "                acc_moves = torch.stack(acc_moves) \n",
    "                acc_states = torch.stack(acc_states) \n",
    "                move = renairt.update(stacked_moves = acc_moves, stacked_states = acc_states, uci = legal_ucii, san = legal_sann, cap = captures, boards = acc_boards)\n",
    "                move = chess.Move.from_uci(legal_ucii[move]) if move < len(legal_ucii) else move_rand\n",
    "                envir.push(move)\n",
    "\n",
    "                acc_moves = []\n",
    "                acc_states = []\n",
    "                acc_boards = []\n",
    "                \n",
    "        renairt.train(0.9)\n",
    "        print('ok')"
   ],
   "metadata": {
    "collapsed": false,
    "ExecuteTime": {
     "end_time": "2024-03-25T11:46:21.178778Z",
     "start_time": "2024-03-25T11:46:21.175079Z"
    }
   },
   "id": "b10ccdb24ddabd7f",
   "execution_count": 214
  },
  {
   "cell_type": "code",
   "outputs": [
    {
     "name": "stderr",
     "output_type": "stream",
     "text": [
      "100%|██████████| 1/1 [00:00<00:00,  1.03it/s]\n"
     ]
    },
    {
     "name": "stdout",
     "output_type": "stream",
     "text": [
      "tensor(1.1553, device='cuda:0', dtype=torch.float16, requires_grad=True)\n",
      "ok\n"
     ]
    },
    {
     "name": "stderr",
     "output_type": "stream",
     "text": [
      "100%|██████████| 1/1 [00:01<00:00,  1.08s/it]\n"
     ]
    },
    {
     "name": "stdout",
     "output_type": "stream",
     "text": [
      "tensor(1.3750, device='cuda:0', dtype=torch.float16, requires_grad=True)\n",
      "ok\n"
     ]
    },
    {
     "name": "stderr",
     "output_type": "stream",
     "text": [
      "100%|██████████| 1/1 [00:00<00:00,  1.23it/s]\n"
     ]
    },
    {
     "name": "stdout",
     "output_type": "stream",
     "text": [
      "tensor(1.0342, device='cuda:0', dtype=torch.float16, requires_grad=True)\n",
      "ok\n"
     ]
    },
    {
     "name": "stderr",
     "output_type": "stream",
     "text": [
      "100%|██████████| 1/1 [00:01<00:00,  1.02s/it]\n"
     ]
    },
    {
     "name": "stdout",
     "output_type": "stream",
     "text": [
      "tensor(1.1475, device='cuda:0', dtype=torch.float16, requires_grad=True)\n",
      "ok\n"
     ]
    },
    {
     "name": "stderr",
     "output_type": "stream",
     "text": [
      "100%|██████████| 1/1 [00:00<00:00,  1.10it/s]"
     ]
    },
    {
     "name": "stdout",
     "output_type": "stream",
     "text": [
      "tensor(1.1768, device='cuda:0', dtype=torch.float16, requires_grad=True)\n",
      "ok\n"
     ]
    },
    {
     "name": "stderr",
     "output_type": "stream",
     "text": [
      "\n"
     ]
    }
   ],
   "source": [
    "for i in range(5):\n",
    "    train(1)"
   ],
   "metadata": {
    "collapsed": false,
    "ExecuteTime": {
     "end_time": "2024-03-25T11:46:26.399397Z",
     "start_time": "2024-03-25T11:46:21.601649Z"
    }
   },
   "id": "fe99e412520d22c1",
   "execution_count": 215
  },
  {
   "cell_type": "code",
   "outputs": [],
   "source": [],
   "metadata": {
    "collapsed": false,
    "ExecuteTime": {
     "end_time": "2024-03-25T10:47:34.693473Z",
     "start_time": "2024-03-25T10:47:34.693398Z"
    }
   },
   "id": "6a2b31cdd8917a0"
  }
 ],
 "metadata": {
  "kernelspec": {
   "display_name": "Python 3",
   "language": "python",
   "name": "python3"
  },
  "language_info": {
   "codemirror_mode": {
    "name": "ipython",
    "version": 2
   },
   "file_extension": ".py",
   "mimetype": "text/x-python",
   "name": "python",
   "nbconvert_exporter": "python",
   "pygments_lexer": "ipython2",
   "version": "2.7.6"
  }
 },
 "nbformat": 4,
 "nbformat_minor": 5
}
