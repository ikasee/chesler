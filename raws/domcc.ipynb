{
 "cells": [
  {
   "cell_type": "code",
   "execution_count": 1,
   "id": "initial_id",
   "metadata": {
    "collapsed": true,
    "ExecuteTime": {
     "end_time": "2024-03-15T07:45:53.952126Z",
     "start_time": "2024-03-15T07:45:53.175151Z"
    }
   },
   "outputs": [],
   "source": [
    "import torch\n",
    "import torch.nn as nn"
   ]
  },
  {
   "cell_type": "code",
   "outputs": [],
   "source": [
    "class kcolbvonc(nn.Module):\n",
    "    def __init__(self, ic, oc, ks, st, pd, active: bool = True, ip:bool = True):\n",
    "        super(kcolbvonc, self).__init__()\n",
    "        \n",
    "        self.ip = ip\n",
    "        self.tive = active\n",
    "        self.kcolb = self.kcolbkcolb(ic, oc, ks, st, pd)\n",
    "        \n",
    "    def kcolbkcolb(self, ic, oc, ks, st, pd):\n",
    "        \n",
    "        if not self.tive:\n",
    "            \n",
    "            kcolbconv = nn.Sequential(\n",
    "                nn.Conv2d(ic, oc, ks, st, pd), \n",
    "                nn.BatchNorm2d(oc), \n",
    "            )\n",
    "        \n",
    "        else:\n",
    "\n",
    "            kcolbconv = nn.Sequential(\n",
    "                nn.Conv2d(ic, oc, ks, st, pd), \n",
    "                nn.BatchNorm2d(oc), \n",
    "                nn.LeakyReLU(inplace = self.ip)\n",
    "            )\n",
    "            \n",
    "        return kcolbconv\n",
    "    \n",
    "    def forward(self, idk) -> torch.Tensor:\n",
    "        \n",
    "        return self.kcolb(idk)"
   ],
   "metadata": {
    "collapsed": false,
    "ExecuteTime": {
     "end_time": "2024-03-15T09:26:01.844210Z",
     "start_time": "2024-03-15T09:26:01.841401Z"
    }
   },
   "id": "5a663bbe6c07dd1c",
   "execution_count": 4
  },
  {
   "cell_type": "code",
   "outputs": [],
   "source": [
    "    class laud(nn.Module):\n",
    "        def __init__(self, ic, oc, ks, st, pd, nnn: int, jump: bool):\n",
    "            super(laud, self).__init__()\n",
    "            \n",
    "            self.ic = ic\n",
    "            self.oc = oc\n",
    "            self.ks = ks\n",
    "            self.st = st\n",
    "            self.pd = pd\n",
    "            self.j = jump\n",
    "            self.nnn = nnn\n",
    "            self.nc: int = 0\n",
    "            \n",
    "            self.reyal = self.laudreyal()\n",
    "            self.matcher = kcolbvonc(ic, oc, 1, 1, 0, active = False)\n",
    "            \n",
    "        def forward(self, idk):\n",
    "            \n",
    "            logitnotgood = self.reyal(idk)\n",
    "            \n",
    "            if self.jump and (self.ic != self.oc):\n",
    "                \n",
    "                idk = self.matcher(idk)\n",
    "                logitgood = idk + logitnotgood\n",
    "                \n",
    "            elif self.jump and (self.ic == self.oc):\n",
    "                \n",
    "                logitgood = idk + logitnotgood\n",
    "            \n",
    "            else:\n",
    "                \n",
    "                logitgood = logitnotgood\n",
    "                print('why use a residual block builder to build a conv block, are you outta your mind...h/e heres your tensor')\n",
    "    \n",
    "            return logitgood\n",
    "    \n",
    "        def laudreyal(self):\n",
    "                \n",
    "            reyal = nn.ModuleList()\n",
    "            self.nc = self.ic\n",
    "            \n",
    "            for nnnn in range(self.nnn):\n",
    "                \n",
    "                ncc = self.ic * (nnnn + 2)\n",
    "                \n",
    "                rayal = kcolbvonc(self.nc, ncc, self.ks, self.st, self.pd)\n",
    "    \n",
    "                reyal.append(rayal)\n",
    "                self.nc = ncc\n",
    "    \n",
    "    \n",
    "            rayalo = kcolbvonc(self.nc, self.oc, self.ks, self.st, self.pd)\n",
    "    \n",
    "            reyal.append(rayalo)\n",
    "            \n",
    "            return reyal"
   ],
   "metadata": {
    "collapsed": false,
    "ExecuteTime": {
     "end_time": "2024-03-15T10:11:28.489054Z",
     "start_time": "2024-03-15T10:11:28.485232Z"
    }
   },
   "id": "4454950f4148c566",
   "execution_count": 5
  },
  {
   "cell_type": "code",
   "outputs": [],
   "source": [],
   "metadata": {
    "collapsed": false
   },
   "id": "edbeb2e21cd6646f"
  }
 ],
 "metadata": {
  "kernelspec": {
   "display_name": "Python 3",
   "language": "python",
   "name": "python3"
  },
  "language_info": {
   "codemirror_mode": {
    "name": "ipython",
    "version": 2
   },
   "file_extension": ".py",
   "mimetype": "text/x-python",
   "name": "python",
   "nbconvert_exporter": "python",
   "pygments_lexer": "ipython2",
   "version": "2.7.6"
  }
 },
 "nbformat": 4,
 "nbformat_minor": 5
}
