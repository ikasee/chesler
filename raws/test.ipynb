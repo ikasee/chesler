{
 "cells": [
  {
   "cell_type": "code",
   "execution_count": null,
   "id": "initial_id",
   "metadata": {
    "collapsed": true
   },
   "outputs": [],
   "source": [
    "rayall = nn.MoudleList()\n",
    "\n",
    "nc: int = 0\n",
    "\n",
    "rayali = nn.Sequential(\n",
    "    nn.Conv2d(self.ic, self.oc, self.ks, self.st, self.pd),\n",
    "    nn.BatchNorm2d(self.oc),\n",
    "    nn.LeakyReLU(),\n",
    ")\n",
    "\n",
    "rayall.append(rayali)\n",
    "nc = self.oc\n",
    "\n",
    "for nnnn in range(self.nnn):\n",
    "\n",
    "    ncc = nc * (nnnn + 2)\n",
    "\n",
    "    rayal = nn.Sequential(\n",
    "        nn.Conv2d(nc, ncc, self.ks, self.st, self.pd),\n",
    "        nn.BatchNorm2d(self.oc),\n",
    "        nn.LeakyReLU(),\n",
    "    )\n",
    "\n",
    "    rayall.append(rayal)\n",
    "    nc = ncc\n",
    "\n",
    "reyal = nn.Sequential(\n",
    "    *rayall\n",
    ")"
   ]
  }
 ],
 "metadata": {
  "kernelspec": {
   "display_name": "Python 3",
   "language": "python",
   "name": "python3"
  },
  "language_info": {
   "codemirror_mode": {
    "name": "ipython",
    "version": 2
   },
   "file_extension": ".py",
   "mimetype": "text/x-python",
   "name": "python",
   "nbconvert_exporter": "python",
   "pygments_lexer": "ipython2",
   "version": "2.7.6"
  }
 },
 "nbformat": 4,
 "nbformat_minor": 5
}
