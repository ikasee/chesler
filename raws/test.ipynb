{
 "cells": [
  {
   "cell_type": "code",
   "execution_count": 3,
   "id": "initial_id",
   "metadata": {
    "collapsed": true,
    "ExecuteTime": {
     "end_time": "2024-03-25T11:24:57.236153Z",
     "start_time": "2024-03-25T11:24:56.620185Z"
    }
   },
   "outputs": [],
   "source": [
    "import torch "
   ]
  },
  {
   "cell_type": "code",
   "outputs": [],
   "source": [
    "a = torch.zeros((3, 8, 8), device = 'cuda')\n",
    "b = torch.ones((3, 8, 8), device = 'cuda') "
   ],
   "metadata": {
    "collapsed": false,
    "ExecuteTime": {
     "end_time": "2024-03-25T11:24:57.338922Z",
     "start_time": "2024-03-25T11:24:57.237090Z"
    }
   },
   "id": "e8197480bdac39de",
   "execution_count": 4
  },
  {
   "cell_type": "code",
   "outputs": [
    {
     "ename": "RuntimeError",
     "evalue": "only one dimension can be inferred",
     "output_type": "error",
     "traceback": [
      "\u001B[0;31m---------------------------------------------------------------------------\u001B[0m",
      "\u001B[0;31mRuntimeError\u001B[0m                              Traceback (most recent call last)",
      "Cell \u001B[0;32mIn[9], line 2\u001B[0m\n\u001B[1;32m      1\u001B[0m c \u001B[38;5;241m=\u001B[39m a\u001B[38;5;241m.\u001B[39munsqueeze(dim \u001B[38;5;241m=\u001B[39m \u001B[38;5;241m0\u001B[39m) \n\u001B[0;32m----> 2\u001B[0m d \u001B[38;5;241m=\u001B[39m \u001B[43ma\u001B[49m\u001B[38;5;241;43m.\u001B[39;49m\u001B[43mview\u001B[49m\u001B[43m(\u001B[49m\u001B[38;5;241;43m1\u001B[39;49m\u001B[43m,\u001B[49m\u001B[43m \u001B[49m\u001B[38;5;241;43m-\u001B[39;49m\u001B[38;5;241;43m1\u001B[39;49m\u001B[43m,\u001B[49m\u001B[43m \u001B[49m\u001B[38;5;241;43m-\u001B[39;49m\u001B[38;5;241;43m1\u001B[39;49m\u001B[43m,\u001B[49m\u001B[43m \u001B[49m\u001B[38;5;241;43m-\u001B[39;49m\u001B[38;5;241;43m1\u001B[39;49m\u001B[43m)\u001B[49m\n\u001B[1;32m      3\u001B[0m \u001B[38;5;28mprint\u001B[39m(c\u001B[38;5;241m.\u001B[39mshape)\n",
      "\u001B[0;31mRuntimeError\u001B[0m: only one dimension can be inferred"
     ]
    }
   ],
   "source": [
    "c = a.unsqueeze(dim = 0) \n",
    "d = a.view(1, -1, -1, -1)\n",
    "print(c.shape)"
   ],
   "metadata": {
    "collapsed": false,
    "ExecuteTime": {
     "end_time": "2024-03-25T11:25:31.860489Z",
     "start_time": "2024-03-25T11:25:31.850416Z"
    }
   },
   "id": "4402a3938630ca43",
   "execution_count": 9
  },
  {
   "cell_type": "code",
   "outputs": [],
   "source": [],
   "metadata": {
    "collapsed": false,
    "ExecuteTime": {
     "end_time": "2024-03-25T11:24:57.352365Z",
     "start_time": "2024-03-25T11:24:57.352312Z"
    }
   },
   "id": "816bcaa49ab601fd"
  }
 ],
 "metadata": {
  "kernelspec": {
   "display_name": "Python 3",
   "language": "python",
   "name": "python3"
  },
  "language_info": {
   "codemirror_mode": {
    "name": "ipython",
    "version": 2
   },
   "file_extension": ".py",
   "mimetype": "text/x-python",
   "name": "python",
   "nbconvert_exporter": "python",
   "pygments_lexer": "ipython2",
   "version": "2.7.6"
  }
 },
 "nbformat": 4,
 "nbformat_minor": 5
}
