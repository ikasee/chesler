{
 "cells": [
  {
   "cell_type": "code",
   "execution_count": 9,
   "id": "initial_id",
   "metadata": {
    "collapsed": true,
    "ExecuteTime": {
     "end_time": "2024-03-26T00:46:55.874622Z",
     "start_time": "2024-03-26T00:46:55.873005Z"
    }
   },
   "outputs": [],
   "source": [
    "import torch "
   ]
  },
  {
   "cell_type": "code",
   "outputs": [],
   "source": [
    "a = torch.zeros((3, 8, 8), device = 'cuda')\n",
    "b = torch.ones((3, 8, 8), device = 'cuda') "
   ],
   "metadata": {
    "collapsed": false,
    "ExecuteTime": {
     "end_time": "2024-03-26T00:46:55.895525Z",
     "start_time": "2024-03-26T00:46:55.880686Z"
    }
   },
   "id": "e8197480bdac39de",
   "execution_count": 10
  },
  {
   "cell_type": "code",
   "outputs": [
    {
     "name": "stdout",
     "output_type": "stream",
     "text": [
      "torch.Size([1, 3, 8, 8])\n"
     ]
    }
   ],
   "source": [
    "c = a.unsqueeze(dim = 0) \n",
    "print(c.shape)"
   ],
   "metadata": {
    "collapsed": false,
    "ExecuteTime": {
     "end_time": "2024-03-26T00:46:55.914292Z",
     "start_time": "2024-03-26T00:46:55.896110Z"
    }
   },
   "id": "4402a3938630ca43",
   "execution_count": 11
  },
  {
   "cell_type": "code",
   "outputs": [
    {
     "name": "stdout",
     "output_type": "stream",
     "text": [
      "tensor([[0, 1, 2],\n",
      "        [3, 4, 5]])\n"
     ]
    }
   ],
   "source": [
    "a = torch.tensor([0, 1, 2]) \n",
    "b = torch.tensor([3, 4, 5]) \n",
    "print(torch.stack([a, b]))"
   ],
   "metadata": {
    "collapsed": false,
    "ExecuteTime": {
     "end_time": "2024-03-26T00:46:55.930791Z",
     "start_time": "2024-03-26T00:46:55.914731Z"
    }
   },
   "id": "816bcaa49ab601fd",
   "execution_count": 12
  },
  {
   "cell_type": "code",
   "outputs": [
    {
     "ename": "RuntimeError",
     "evalue": "The size of tensor a (3) must match the size of tensor b (2) at non-singleton dimension 0",
     "output_type": "error",
     "traceback": [
      "\u001B[0;31m---------------------------------------------------------------------------\u001B[0m",
      "\u001B[0;31mRuntimeError\u001B[0m                              Traceback (most recent call last)",
      "Cell \u001B[0;32mIn[1], line 9\u001B[0m\n\u001B[1;32m      4\u001B[0m tensor \u001B[38;5;241m=\u001B[39m torch\u001B[38;5;241m.\u001B[39mtensor([[\u001B[38;5;241m1\u001B[39m, \u001B[38;5;241m2\u001B[39m, \u001B[38;5;241m3\u001B[39m], [\u001B[38;5;241m1\u001B[39m, \u001B[38;5;241m2\u001B[39m, \u001B[38;5;241m3\u001B[39m]])\n\u001B[1;32m      6\u001B[0m \u001B[38;5;66;03m# Comparing each element of dimension 0 with each element of dimension 1\u001B[39;00m\n\u001B[1;32m      7\u001B[0m \u001B[38;5;66;03m# This might involve reshaping or expanding dimensions to make them broadcastable\u001B[39;00m\n\u001B[1;32m      8\u001B[0m \u001B[38;5;66;03m# Here we're just showcasing a conceptual example\u001B[39;00m\n\u001B[0;32m----> 9\u001B[0m comparison \u001B[38;5;241m=\u001B[39m \u001B[43mtensor\u001B[49m\u001B[43m[\u001B[49m\u001B[38;5;241;43m0\u001B[39;49m\u001B[43m,\u001B[49m\u001B[43m \u001B[49m\u001B[43m:\u001B[49m\u001B[43m]\u001B[49m\u001B[43m \u001B[49m\u001B[38;5;241;43m==\u001B[39;49m\u001B[43m \u001B[49m\u001B[43mtensor\u001B[49m\u001B[43m[\u001B[49m\u001B[43m:\u001B[49m\u001B[43m,\u001B[49m\u001B[43m \u001B[49m\u001B[38;5;241;43m1\u001B[39;49m\u001B[43m]\u001B[49m\n\u001B[1;32m     10\u001B[0m \u001B[38;5;28mprint\u001B[39m(\u001B[38;5;124m\"\u001B[39m\u001B[38;5;124mElement-wise comparison across dimensions:\u001B[39m\u001B[38;5;124m\"\u001B[39m, comparison)\n",
      "\u001B[0;31mRuntimeError\u001B[0m: The size of tensor a (3) must match the size of tensor b (2) at non-singleton dimension 0"
     ]
    }
   ],
   "source": [
    "import torch\n",
    "\n",
    "# Assuming a tensor with shape [2, 3]\n",
    "tensor = torch.tensor([[1, 2, 3], [1, 2, 3]])\n",
    "\n",
    "# Comparing each element of dimension 0 with each element of dimension 1\n",
    "# This might involve reshaping or expanding dimensions to make them broadcastable\n",
    "# Here we're just showcasing a conceptual example\n",
    "comparison = tensor[0, :] == tensor[:, 1]\n",
    "print(\"Element-wise comparison across dimensions:\", comparison)\n"
   ],
   "metadata": {
    "collapsed": false,
    "ExecuteTime": {
     "end_time": "2024-03-29T03:02:52.260075Z",
     "start_time": "2024-03-29T03:02:51.605492Z"
    }
   },
   "id": "228ed3c358ecbeb3",
   "execution_count": 1
  },
  {
   "cell_type": "code",
   "outputs": [],
   "source": [],
   "metadata": {
    "collapsed": false
   },
   "id": "60afaf96d45d8db2"
  }
 ],
 "metadata": {
  "kernelspec": {
   "display_name": "Python 3",
   "language": "python",
   "name": "python3"
  },
  "language_info": {
   "codemirror_mode": {
    "name": "ipython",
    "version": 2
   },
   "file_extension": ".py",
   "mimetype": "text/x-python",
   "name": "python",
   "nbconvert_exporter": "python",
   "pygments_lexer": "ipython2",
   "version": "2.7.6"
  }
 },
 "nbformat": 4,
 "nbformat_minor": 5
}
