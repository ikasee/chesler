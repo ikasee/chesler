{
 "cells": [
  {
   "cell_type": "code",
   "execution_count": 15,
   "id": "79dc81a9dff3d0dc",
   "metadata": {
    "collapsed": false,
    "ExecuteTime": {
     "end_time": "2024-03-18T09:00:52.919134Z",
     "start_time": "2024-03-18T09:00:52.917050Z"
    }
   },
   "outputs": [],
   "source": [
    "import chess\n",
    "import torch\n",
    "from torch.distributions import Categorical as gori\n",
    "\n",
    "device = 'cuda' if torch.cuda.is_available() else 'cpu'\n",
    "if not device == 'cuda':\n",
    "    raise SystemError('cuda not available')"
   ]
  },
  {
   "cell_type": "code",
   "outputs": [],
   "source": [
    "def t(tensor):\n",
    "    return torch.tensor(t, device = device, dtype = torch.float16)"
   ],
   "metadata": {
    "collapsed": false,
    "ExecuteTime": {
     "end_time": "2024-03-18T09:00:52.943424Z",
     "start_time": "2024-03-18T09:00:52.920237Z"
    }
   },
   "id": "353a6a3bfc5c339a",
   "execution_count": 16
  },
  {
   "cell_type": "code",
   "outputs": [],
   "source": [
    "def LMs(board: chess.Board):\n",
    "\n",
    "    legal_moves = list(board.legal_moves)\n",
    "    legal_moves_san = [board.san(moves) for moves in legal_moves]\n",
    "    legal_moves_uci = [board.uci(moves) for moves in legal_moves]\n",
    "\n",
    "    return legal_moves_uci, legal_moves_san"
   ],
   "metadata": {
    "collapsed": false,
    "ExecuteTime": {
     "end_time": "2024-03-18T09:00:52.959144Z",
     "start_time": "2024-03-18T09:00:52.944102Z"
    }
   },
   "id": "8ddb9f8c1154aa63",
   "execution_count": 17
  },
  {
   "cell_type": "code",
   "outputs": [],
   "source": [
    "def ecode_board(board: chess.Board):\n",
    "\n",
    "    board_enc = torch.zeros((1, 12, 8, 8), device = device)\n",
    "\n",
    "    oh_label = {\n",
    "        'P': 0,\n",
    "        'R': 1,\n",
    "        'N': 2,\n",
    "        'B': 3,\n",
    "        'Q': 4,\n",
    "        'K': 5,\n",
    "        'p': 6,\n",
    "        'r': 7,\n",
    "        'n': 8,\n",
    "        'b': 9,\n",
    "        'q': 10,\n",
    "        'k': 11\n",
    "    }\n",
    "\n",
    "    for square in chess.SQUARES:\n",
    "\n",
    "        piece = board.piece_at(square)\n",
    "\n",
    "        if piece:\n",
    "\n",
    "            board_count = oh_label[str(piece)]\n",
    "            row_count, col_count = torch.tensor(divmod(square, 8), device = device)\n",
    "            col_count = torch.abs(col_count - 7)\n",
    "\n",
    "            board_enc[0, board_count, row_count, col_count] = 1\n",
    "\n",
    "    return board_enc"
   ],
   "metadata": {
    "collapsed": false,
    "ExecuteTime": {
     "end_time": "2024-03-18T09:00:52.974007Z",
     "start_time": "2024-03-18T09:00:52.959562Z"
    }
   },
   "id": "c4ed5283b4b8e5cb",
   "execution_count": 18
  },
  {
   "cell_type": "code",
   "outputs": [],
   "source": [
    "def ecode_moves(moves: list):\n",
    "\n",
    "    state = torch.zeros((1, 120, 8, 8), device = device)\n",
    "    # col_dict = {'a': 0, 'b': 1, 'c': 2, 'd': 3, 'e': 4, 'f': 5, 'g': 6, 'h': 7}\n",
    "    col_dict = {'a': 7, 'b': 6, 'c': 5, 'd': 4, 'e': 3, 'f': 2, 'g': 1, 'h': 0}\n",
    "    for ind, move in enumerate(moves[:120]):\n",
    "\n",
    "        o_col = torch.tensor(col_dict[move[0]], device = device)\n",
    "        # o_row = torch.abs(torch.tensor(int(move[1]) - 1, device = device) - 7)\n",
    "        o_row = torch.tensor(int(move[1]) -1, device = device)\n",
    "        e_col = torch.tensor(col_dict[move[2]], device = device)\n",
    "        e_row = torch.tensor(int(move[3]) - 1, device = device)\n",
    "\n",
    "        state[0, ind, o_row, o_col] = 1\n",
    "\n",
    "        if move[-1] == 'q':\n",
    "            state[0, ind, e_row, e_col] = 3\n",
    "        else:\n",
    "            state[0, ind, e_row, e_col] = 2\n",
    "\n",
    "    return state"
   ],
   "metadata": {
    "collapsed": false,
    "ExecuteTime": {
     "end_time": "2024-03-18T09:00:52.990197Z",
     "start_time": "2024-03-18T09:00:52.974484Z"
    }
   },
   "id": "fffedb6353a722da",
   "execution_count": 19
  },
  {
   "cell_type": "code",
   "outputs": [],
   "source": [
    "def pan_sys(pred_ind, board_state: chess.Board, legal_uci, legal_san, v, captures):\n",
    "\n",
    "\n",
    "    if pred_ind >= len(legal_uci):\n",
    "        total_lm_penalty = torch.tensor(0, dtype = torch.float32, device = device)\n",
    "        total_action_penalty = torch.tensor(0, dtype = torch.float32, device = device)\n",
    "        move = None\n",
    "        # v_val = None\n",
    "\n",
    "    else:\n",
    "        move = legal_uci[pred_ind]\n",
    "        actionn = legal_san[pred_ind]\n",
    "        action = actionn.replace('x', '').replace('+', '').replace('q', '').replace('#', '').replace('=', '')\n",
    "\n",
    "        file = ['a', 'b', 'c', 'd', 'e', 'f', 'g', 'h']\n",
    "        s_piece = ['R', 'N', 'B']\n",
    "        capture = 'x'\n",
    "\n",
    "\n",
    "        if 2 < len(action) < 6 and action[0] in file:\n",
    "            action = f'p{action[1:3]}'\n",
    "        if len(actionn) == 2:\n",
    "            action = f'p{actionn}'\n",
    "        elif len(actionn) >= 6:\n",
    "            action = f'p{actionn[2:4]}'\n",
    "        elif (capture in actionn) and (actionn[0] in s_piece) and (actionn[1] in file):\n",
    "            action = actionn[:1] + actionn[2:]\n",
    "\n",
    "        col_dict = {'a': t(0), 'b': t(1), 'c': t(2), 'd': t(3), 'e': t(4), 'f': t(5), 'g': t(6), 'h': t(7)}\n",
    "\n",
    "        penalty_ = {'p': t(2), 'n': t(4), 'b': t(4), 'r': t(7), 'q': t(10), 'k': t(float('inf'))}\n",
    "\n",
    "        total_lm_penalty = torch.tensor(0.5, dtype = torch.float32, device = device)\n",
    "        total_action_penalty = torch.tensor(0., dtype = torch.float32, device = device)\n",
    "\n",
    "        if '#' in actionn:\n",
    "            total_action_penalty = total_action_penalty + 3\n",
    "\n",
    "        base_penalty = 0.5\n",
    "\n",
    "        if (capture not in actionn) and captures:\n",
    "            total_action_penalty = total_action_penalty - 0\n",
    "            # v_val = None\n",
    "\n",
    "        elif  (capture not in actionn) and (not captures):\n",
    "            total_action_penalty = torch.tensor(0, dtype = torch.float32, device = device)\n",
    "\n",
    "        else:\n",
    "            try:\n",
    "                cap_loc = action[1:3]\n",
    "                square = (torch.tensor(int(cap_loc[1]), device = device) - 1) * 8 + int(col_dict[cap_loc[0]])\n",
    "                I_piece = action[0].lower()\n",
    "                o_piece = str(board_state.piece_at(square.item())).lower()\n",
    "                refI = penalty_[I_piece]\n",
    "                refO = penalty_[o_piece]\n",
    "\n",
    "                if refI < refO:\n",
    "                    mul = (refO - refI) / 2\n",
    "                    penalty_score = base_penalty * refO * mul\n",
    "                elif refI > refO:\n",
    "                    mul = (refI - refO)\n",
    "                    penalty_score = base_penalty * (refO / mul)\n",
    "                elif refI == refO:\n",
    "                    penalty_score = base_penalty\n",
    "                else:\n",
    "                    penalty_score = 0\n",
    "\n",
    "                total_action_penalty  = total_action_penalty + penalty_score\n",
    "\n",
    "            except Exception as e:\n",
    "                total_action_penalty = 'error'\n",
    "\n",
    "            # v_val = bellman(v)\n",
    "\n",
    "    return total_action_penalty, total_lm_penalty, move#, v_val"
   ],
   "metadata": {
    "collapsed": true,
    "ExecuteTime": {
     "end_time": "2024-03-18T09:00:53.006746Z",
     "start_time": "2024-03-18T09:00:52.990904Z"
    }
   },
   "id": "initial_id",
   "execution_count": 20
  },
  {
   "cell_type": "code",
   "outputs": [],
   "source": [
    "def pg_loss(prob, r):\n",
    "    if not prob == 0 or not prob.is_nan():\n",
    "        loss = -torch.sum(torch.log(prob) * r)\n",
    "    else:\n",
    "        loss = None\n",
    "        \n",
    "    return loss"
   ],
   "metadata": {
    "collapsed": false,
    "ExecuteTime": {
     "end_time": "2024-03-18T09:00:53.022201Z",
     "start_time": "2024-03-18T09:00:53.007191Z"
    }
   },
   "id": "85dd3c14d98bc362",
   "execution_count": 21
  },
  {
   "cell_type": "code",
   "outputs": [],
   "source": [
    "class parse:\n",
    "    def __init__(self, lr):\n",
    "        self.loss = t(0)\n",
    "        self.optim = torch.optim.Adam(lr = lr, params = dom.parameters())\n",
    "        self.rws = []\n",
    "        self.probs = []\n",
    "        \n",
    "    def dist(self, logi, rw): \n",
    "        \n",
    "        ino = gori(logi)\n",
    "        choice = ino.sample()\n",
    "        \n",
    "        self.probs.append(ino.log_prob(choice))\n",
    "        self.rws.append(rw)\n",
    "        \n",
    "        return choice\n",
    "                \n",
    "    def niart(self):\n",
    "        \n",
    "        policy_loss = t(0)\n",
    "        \n",
    "        for rw, prob in zip(self.rws, self.probs):\n",
    "            loss = -(rw * prob)\n",
    "            \n",
    "            policy_loss = policy_loss + loss\n",
    "        \n",
    "        self.optim.zero_grad()\n",
    "        policy_loss.backward()\n",
    "        self.optim.step()"
   ],
   "metadata": {
    "collapsed": false,
    "ExecuteTime": {
     "end_time": "2024-03-18T09:00:53.036979Z",
     "start_time": "2024-03-18T09:00:53.022689Z"
    }
   },
   "id": "6f16ed6364833c3c",
   "execution_count": 22
  }
 ],
 "metadata": {
  "kernelspec": {
   "display_name": "Python 3",
   "language": "python",
   "name": "python3"
  },
  "language_info": {
   "codemirror_mode": {
    "name": "ipython",
    "version": 2
   },
   "file_extension": ".py",
   "mimetype": "text/x-python",
   "name": "python",
   "nbconvert_exporter": "python",
   "pygments_lexer": "ipython2",
   "version": "2.7.6"
  }
 },
 "nbformat": 4,
 "nbformat_minor": 5
}
